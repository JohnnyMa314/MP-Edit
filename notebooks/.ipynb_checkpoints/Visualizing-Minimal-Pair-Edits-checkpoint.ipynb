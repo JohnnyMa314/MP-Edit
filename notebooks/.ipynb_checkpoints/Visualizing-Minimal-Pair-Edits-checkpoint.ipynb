{
 "cells": [
  {
   "cell_type": "code",
   "execution_count": 14,
   "metadata": {},
   "outputs": [
    {
     "data": {
      "text/plain": [
       "(7693, 30)"
      ]
     },
     "execution_count": 14,
     "metadata": {},
     "output_type": "execute_result"
    }
   ],
   "source": [
    "import pandas as pd\n",
    "import numpy as np\n",
    "import matplotlib.pyplot as plt\n",
    "import seaborn as sns\n",
    "plt.rcParams.update({'font.size': 16})\n",
    "\n",
    "df = pd.read_csv('../2000_mnli_cond_pairs_cleaned.csv')\n",
    "df.shape"
   ]
  },
  {
   "cell_type": "code",
   "execution_count": 15,
   "metadata": {},
   "outputs": [
    {
     "name": "stdout",
     "output_type": "stream",
     "text": [
      "Index(['Unnamed: 0', 'Unnamed: 0.1', 'Unnamed: 0.1.1', 'line-num',\n",
      "       'pred-model', 'fill-model', 'premise', 'hypothesis', 'mask-filled',\n",
      "       'token_changes', 'fill_prob', 'n_gram', 'topk', 'Word2Vec-Score',\n",
      "       'Bert-Score', 'gold-label', 'prepend-label', 'targeted-label',\n",
      "       'token-similarity', 'orig-label', 'new-label', 'orig-label-prob',\n",
      "       'same-label-prob', 'new-label-prob', 'label-changed',\n",
      "       'same-label-prob-diff', 'Unnamed: 0.1.1.1', 'same-token', 'flip-class',\n",
      "       'slice'],\n",
      "      dtype='object')\n"
     ]
    },
    {
     "data": {
      "text/html": [
       "<div>\n",
       "<style scoped>\n",
       "    .dataframe tbody tr th:only-of-type {\n",
       "        vertical-align: middle;\n",
       "    }\n",
       "\n",
       "    .dataframe tbody tr th {\n",
       "        vertical-align: top;\n",
       "    }\n",
       "\n",
       "    .dataframe thead th {\n",
       "        text-align: right;\n",
       "    }\n",
       "</style>\n",
       "<table border=\"1\" class=\"dataframe\">\n",
       "  <thead>\n",
       "    <tr style=\"text-align: right;\">\n",
       "      <th></th>\n",
       "      <th>Unnamed: 0</th>\n",
       "      <th>Unnamed: 0.1</th>\n",
       "      <th>Unnamed: 0.1.1</th>\n",
       "      <th>line-num</th>\n",
       "      <th>pred-model</th>\n",
       "      <th>fill-model</th>\n",
       "      <th>premise</th>\n",
       "      <th>hypothesis</th>\n",
       "      <th>mask-filled</th>\n",
       "      <th>token_changes</th>\n",
       "      <th>...</th>\n",
       "      <th>new-label</th>\n",
       "      <th>orig-label-prob</th>\n",
       "      <th>same-label-prob</th>\n",
       "      <th>new-label-prob</th>\n",
       "      <th>label-changed</th>\n",
       "      <th>same-label-prob-diff</th>\n",
       "      <th>Unnamed: 0.1.1.1</th>\n",
       "      <th>same-token</th>\n",
       "      <th>flip-class</th>\n",
       "      <th>slice</th>\n",
       "    </tr>\n",
       "  </thead>\n",
       "  <tbody>\n",
       "    <tr>\n",
       "      <th>0</th>\n",
       "      <td>0</td>\n",
       "      <td>1042</td>\n",
       "      <td>1085</td>\n",
       "      <td>75951</td>\n",
       "      <td>mnli-roberta</td>\n",
       "      <td>BartLargeMNLI</td>\n",
       "      <td>The same technology is already used safely in ...</td>\n",
       "      <td>This technology is nearing final approval for ...</td>\n",
       "      <td>The technology is nearing final approval for u...</td>\n",
       "      <td>('This technology is', 'The technology is')</td>\n",
       "      <td>...</td>\n",
       "      <td>contradiction</td>\n",
       "      <td>0.89</td>\n",
       "      <td>0.78</td>\n",
       "      <td>0.78</td>\n",
       "      <td>False</td>\n",
       "      <td>0.11</td>\n",
       "      <td>1085.0</td>\n",
       "      <td>False</td>\n",
       "      <td>Uncertain-Same</td>\n",
       "      <td>1</td>\n",
       "    </tr>\n",
       "    <tr>\n",
       "      <th>1</th>\n",
       "      <td>621</td>\n",
       "      <td>681</td>\n",
       "      <td>681</td>\n",
       "      <td>3715</td>\n",
       "      <td>mnli-roberta</td>\n",
       "      <td>BartLargeMNLI</td>\n",
       "      <td>And doesn't admitting that people care about f...</td>\n",
       "      <td>Some people care about fuzzy things like statu...</td>\n",
       "      <td>Many people care about fuzzy things like statu...</td>\n",
       "      <td>('Some people', 'Many people')</td>\n",
       "      <td>...</td>\n",
       "      <td>entailment</td>\n",
       "      <td>0.94</td>\n",
       "      <td>0.70</td>\n",
       "      <td>0.70</td>\n",
       "      <td>False</td>\n",
       "      <td>0.24</td>\n",
       "      <td>NaN</td>\n",
       "      <td>False</td>\n",
       "      <td>Uncertain-Same</td>\n",
       "      <td>1</td>\n",
       "    </tr>\n",
       "    <tr>\n",
       "      <th>2</th>\n",
       "      <td>2</td>\n",
       "      <td>59</td>\n",
       "      <td>59</td>\n",
       "      <td>46921</td>\n",
       "      <td>mnli-roberta</td>\n",
       "      <td>BartLargeMNLI</td>\n",
       "      <td>The Cronkite crown, though, is not awarded on ...</td>\n",
       "      <td>Ratings will not guarantee the winning of the ...</td>\n",
       "      <td>ratings will not guarantee the winning of the ...</td>\n",
       "      <td>('Cronkite crown.', 'ratings Cronkite crown.')</td>\n",
       "      <td>...</td>\n",
       "      <td>entailment</td>\n",
       "      <td>0.93</td>\n",
       "      <td>0.76</td>\n",
       "      <td>0.76</td>\n",
       "      <td>False</td>\n",
       "      <td>0.17</td>\n",
       "      <td>59.0</td>\n",
       "      <td>False</td>\n",
       "      <td>Uncertain-Same</td>\n",
       "      <td>1</td>\n",
       "    </tr>\n",
       "    <tr>\n",
       "      <th>3</th>\n",
       "      <td>287</td>\n",
       "      <td>315</td>\n",
       "      <td>315</td>\n",
       "      <td>52048</td>\n",
       "      <td>mnli-roberta</td>\n",
       "      <td>BartLargeMNLI</td>\n",
       "      <td>Newsweek says Di's death improves Prince Charl...</td>\n",
       "      <td>Newsweek claims that after Diana's death, Prin...</td>\n",
       "      <td>Newsweek claims that after Diana's death, Prin...</td>\n",
       "      <td>('Prince Charles began', 'Prince Charles start...</td>\n",
       "      <td>...</td>\n",
       "      <td>contradiction</td>\n",
       "      <td>0.85</td>\n",
       "      <td>0.79</td>\n",
       "      <td>0.79</td>\n",
       "      <td>False</td>\n",
       "      <td>0.06</td>\n",
       "      <td>NaN</td>\n",
       "      <td>False</td>\n",
       "      <td>Uncertain-Same</td>\n",
       "      <td>1</td>\n",
       "    </tr>\n",
       "    <tr>\n",
       "      <th>4</th>\n",
       "      <td>128</td>\n",
       "      <td>128</td>\n",
       "      <td>128</td>\n",
       "      <td>12570</td>\n",
       "      <td>mnli-roberta</td>\n",
       "      <td>BartLargeMNLI</td>\n",
       "      <td>The Temple Bar Gallery (Temple Bar) exhibits t...</td>\n",
       "      <td>As many as 40 artists have their work shown at...</td>\n",
       "      <td>As many as 50 artists have their work shown at...</td>\n",
       "      <td>('40 artists have', '50 artists have')</td>\n",
       "      <td>...</td>\n",
       "      <td>entailment</td>\n",
       "      <td>0.97</td>\n",
       "      <td>0.51</td>\n",
       "      <td>0.51</td>\n",
       "      <td>False</td>\n",
       "      <td>0.46</td>\n",
       "      <td>NaN</td>\n",
       "      <td>False</td>\n",
       "      <td>Uncertain-Same</td>\n",
       "      <td>1</td>\n",
       "    </tr>\n",
       "  </tbody>\n",
       "</table>\n",
       "<p>5 rows × 30 columns</p>\n",
       "</div>"
      ],
      "text/plain": [
       "   Unnamed: 0  Unnamed: 0.1  Unnamed: 0.1.1  line-num    pred-model  \\\n",
       "0           0          1042            1085     75951  mnli-roberta   \n",
       "1         621           681             681      3715  mnli-roberta   \n",
       "2           2            59              59     46921  mnli-roberta   \n",
       "3         287           315             315     52048  mnli-roberta   \n",
       "4         128           128             128     12570  mnli-roberta   \n",
       "\n",
       "      fill-model                                            premise  \\\n",
       "0  BartLargeMNLI  The same technology is already used safely in ...   \n",
       "1  BartLargeMNLI  And doesn't admitting that people care about f...   \n",
       "2  BartLargeMNLI  The Cronkite crown, though, is not awarded on ...   \n",
       "3  BartLargeMNLI  Newsweek says Di's death improves Prince Charl...   \n",
       "4  BartLargeMNLI  The Temple Bar Gallery (Temple Bar) exhibits t...   \n",
       "\n",
       "                                          hypothesis  \\\n",
       "0  This technology is nearing final approval for ...   \n",
       "1  Some people care about fuzzy things like statu...   \n",
       "2  Ratings will not guarantee the winning of the ...   \n",
       "3  Newsweek claims that after Diana's death, Prin...   \n",
       "4  As many as 40 artists have their work shown at...   \n",
       "\n",
       "                                         mask-filled  \\\n",
       "0  The technology is nearing final approval for u...   \n",
       "1  Many people care about fuzzy things like statu...   \n",
       "2  ratings will not guarantee the winning of the ...   \n",
       "3  Newsweek claims that after Diana's death, Prin...   \n",
       "4  As many as 50 artists have their work shown at...   \n",
       "\n",
       "                                       token_changes  ...      new-label  \\\n",
       "0        ('This technology is', 'The technology is')  ...  contradiction   \n",
       "1                     ('Some people', 'Many people')  ...     entailment   \n",
       "2     ('Cronkite crown.', 'ratings Cronkite crown.')  ...     entailment   \n",
       "3  ('Prince Charles began', 'Prince Charles start...  ...  contradiction   \n",
       "4             ('40 artists have', '50 artists have')  ...     entailment   \n",
       "\n",
       "   orig-label-prob  same-label-prob  new-label-prob  label-changed  \\\n",
       "0             0.89             0.78            0.78          False   \n",
       "1             0.94             0.70            0.70          False   \n",
       "2             0.93             0.76            0.76          False   \n",
       "3             0.85             0.79            0.79          False   \n",
       "4             0.97             0.51            0.51          False   \n",
       "\n",
       "   same-label-prob-diff Unnamed: 0.1.1.1 same-token      flip-class slice  \n",
       "0                  0.11           1085.0      False  Uncertain-Same     1  \n",
       "1                  0.24              NaN      False  Uncertain-Same     1  \n",
       "2                  0.17             59.0      False  Uncertain-Same     1  \n",
       "3                  0.06              NaN      False  Uncertain-Same     1  \n",
       "4                  0.46              NaN      False  Uncertain-Same     1  \n",
       "\n",
       "[5 rows x 30 columns]"
      ]
     },
     "execution_count": 15,
     "metadata": {},
     "output_type": "execute_result"
    }
   ],
   "source": [
    "print(df.columns)\n",
    "df.head()"
   ]
  },
  {
   "cell_type": "markdown",
   "metadata": {},
   "source": [
    "# Visualizing Sentence and Token Similairty Measures"
   ]
  },
  {
   "cell_type": "code",
   "execution_count": 16,
   "metadata": {},
   "outputs": [
    {
     "data": {
      "text/plain": [
       "(0.0, 1.0)"
      ]
     },
     "execution_count": 16,
     "metadata": {},
     "output_type": "execute_result"
    },
    {
     "data": {
      "image/png": "[encoded data removed]",
      "text/plain": [
       "<Figure size 720x432 with 1 Axes>"
      ]
     },
     "metadata": {
      "needs_background": "light"
     },
     "output_type": "display_data"
    },
    {
     "data": {
      "text/plain": [
       "<Figure size 432x288 with 0 Axes>"
      ]
     },
     "metadata": {},
     "output_type": "display_data"
    },
    {
     "data": {
      "image/png": "[encoded data removed]",
      "text/plain": [
       "<Figure size 720x432 with 1 Axes>"
      ]
     },
     "metadata": {
      "needs_background": "light"
     },
     "output_type": "display_data"
    }
   ],
   "source": [
    "fig, ax = plt.subplots(figsize=(10,6))\n",
    "sns.histplot(df['Bert-Score'], label = 'BERT', alpha = 0.6, color = 'orange')\n",
    "sns.histplot(df['Word2Vec-Score'], label = 'W2V', alpha=0.6, color = 'purple')\n",
    "plt.legend()\n",
    "plt.title('Mask Fill Sentence Similarity Measures')\n",
    "\n",
    "plt.figure()\n",
    "fig, ax = plt.subplots(figsize=(10,6))\n",
    "sns.histplot(df['token-similarity'], label = 'TokSim', alpha=0.6, color = 'red')\n",
    "plt.title('Mask Fill Token Similarity Measures')\n",
    "plt.xlim([0,1])"
   ]
  },
  {
   "cell_type": "code",
   "execution_count": 19,
   "metadata": {},
   "outputs": [
    {
     "data": {
      "image/png": "[encoded data removed]",
      "text/plain": [
       "<Figure size 720x432 with 1 Axes>"
      ]
     },
     "metadata": {
      "needs_background": "light"
     },
     "output_type": "display_data"
    }
   ],
   "source": [
    "# Visualizing Number of Generations per Data Instance\n",
    "fig, ax = plt.subplots(figsize=(10,6))\n",
    "num_gens = df.groupby(df['line-num']).size()\n",
    "sns.histplot(num_gens)\n",
    "plt.title('Num Generations per Instance')\n",
    "plt.savefig('instances1.png', dpi = 300)\n",
    "plt.show()"
   ]
  },
  {
   "cell_type": "markdown",
   "metadata": {},
   "source": [
    "# Visualizing Label Flip and Class Probability\n",
    "\n",
    "Define four conditions based on label flip and probability of label, given by RoBERTA softmax.\n",
    "\n",
    "1. Certain Flip\n",
    "2. Uncertain Flip\n",
    "3. Certain Same\n",
    "4. Uncertain Same\n",
    "\n"
   ]
  },
  {
   "cell_type": "code",
   "execution_count": 5,
   "metadata": {},
   "outputs": [
    {
     "data": {
      "text/plain": [
       "<AxesSubplot:xlabel='same-label-prob-diff', ylabel='Count'>"
      ]
     },
     "execution_count": 5,
     "metadata": {},
     "output_type": "execute_result"
    },
    {
     "data": {
      "image/png": "[encoded data removed]",
      "text/plain": [
       "<Figure size 432x288 with 1 Axes>"
      ]
     },
     "metadata": {
      "needs_background": "light"
     },
     "output_type": "display_data"
    }
   ],
   "source": [
    "sns.histplot(df['same-label-prob-diff'])"
   ]
  },
  {
   "cell_type": "markdown",
   "metadata": {},
   "source": [
    "## Subsetting Data into Potential Slices of Interest"
   ]
  },
  {
   "cell_type": "code",
   "execution_count": 6,
   "metadata": {},
   "outputs": [],
   "source": [
    "uncertains = df.loc[df['orig-label-prob'] < 0.8] # initial model uncertain\n",
    "certains = df.loc[df['orig-label-prob'] > 0.8] # initial model certain\n",
    "in_slice = df.loc[df['slice'] == 1] # example contains targeted words\n",
    "out_slice = df.loc[df['slice'] == 0] # example does not contain targeted words"
   ]
  },
  {
   "cell_type": "code",
   "execution_count": 3,
   "metadata": {},
   "outputs": [
    {
     "ename": "NameError",
     "evalue": "name 'plt' is not defined",
     "output_type": "error",
     "traceback": [
      "\u001b[0;31m---------------------------------------------------------------------------\u001b[0m",
      "\u001b[0;31mNameError\u001b[0m                                 Traceback (most recent call last)",
      "\u001b[0;32m<ipython-input-3-6e3119f428c2>\u001b[0m in \u001b[0;36m<module>\u001b[0;34m\u001b[0m\n\u001b[0;32m----> 1\u001b[0;31m \u001b[0mfig\u001b[0m\u001b[0;34m,\u001b[0m \u001b[0maxs\u001b[0m \u001b[0;34m=\u001b[0m \u001b[0mplt\u001b[0m\u001b[0;34m.\u001b[0m\u001b[0msubplots\u001b[0m\u001b[0;34m(\u001b[0m\u001b[0mncols\u001b[0m\u001b[0;34m=\u001b[0m\u001b[0;36m2\u001b[0m\u001b[0;34m,\u001b[0m \u001b[0mnrows\u001b[0m\u001b[0;34m=\u001b[0m\u001b[0;36m2\u001b[0m\u001b[0;34m,\u001b[0m \u001b[0mfigsize\u001b[0m\u001b[0;34m=\u001b[0m\u001b[0;34m(\u001b[0m\u001b[0;36m12\u001b[0m\u001b[0;34m,\u001b[0m\u001b[0;36m8\u001b[0m\u001b[0;34m)\u001b[0m\u001b[0;34m)\u001b[0m\u001b[0;34m\u001b[0m\u001b[0;34m\u001b[0m\u001b[0m\n\u001b[0m\u001b[1;32m      2\u001b[0m \u001b[0max1\u001b[0m\u001b[0;34m,\u001b[0m \u001b[0max2\u001b[0m\u001b[0;34m,\u001b[0m \u001b[0max3\u001b[0m\u001b[0;34m,\u001b[0m \u001b[0max4\u001b[0m \u001b[0;34m=\u001b[0m \u001b[0maxs\u001b[0m\u001b[0;34m.\u001b[0m\u001b[0mravel\u001b[0m\u001b[0;34m(\u001b[0m\u001b[0;34m)\u001b[0m\u001b[0;34m\u001b[0m\u001b[0;34m\u001b[0m\u001b[0m\n\u001b[1;32m      3\u001b[0m \u001b[0;34m\u001b[0m\u001b[0m\n\u001b[1;32m      4\u001b[0m \u001b[0mcounts\u001b[0m \u001b[0;34m=\u001b[0m \u001b[0muncertains\u001b[0m\u001b[0;34m[\u001b[0m\u001b[0;34m'flip-class'\u001b[0m\u001b[0;34m]\u001b[0m\u001b[0;34m.\u001b[0m\u001b[0mgroupby\u001b[0m\u001b[0;34m(\u001b[0m\u001b[0muncertains\u001b[0m\u001b[0;34m[\u001b[0m\u001b[0;34m'flip-class'\u001b[0m\u001b[0;34m]\u001b[0m\u001b[0;34m)\u001b[0m\u001b[0;34m.\u001b[0m\u001b[0msize\u001b[0m\u001b[0;34m(\u001b[0m\u001b[0;34m)\u001b[0m\u001b[0;34m\u001b[0m\u001b[0;34m\u001b[0m\u001b[0m\n\u001b[1;32m      5\u001b[0m \u001b[0mN\u001b[0m \u001b[0;34m=\u001b[0m \u001b[0msum\u001b[0m\u001b[0;34m(\u001b[0m\u001b[0mcounts\u001b[0m\u001b[0;34m)\u001b[0m\u001b[0;34m\u001b[0m\u001b[0;34m\u001b[0m\u001b[0m\n",
      "\u001b[0;31mNameError\u001b[0m: name 'plt' is not defined"
     ]
    }
   ],
   "source": [
    "fig, axs = plt.subplots(ncols=2, nrows=2, figsize=(12,8))\n",
    "ax1, ax2, ax3, ax4 = axs.ravel()\n",
    "\n",
    "counts = uncertains['flip-class'].groupby(uncertains['flip-class']).size()\n",
    "N = sum(counts)\n",
    "counts = counts/sum(counts) * 100\n",
    "\n",
    "ax1.bar(range(len(counts)), counts, alpha = 1, align='center', color = list(sns.color_palette(\"hls\", len(counts)).as_hex()))\n",
    "ax1.set_xticks(range(4))\n",
    "ax1.set_xticklabels(counts.index, rotation = 45, ha=\"center\")\n",
    "ax1.set_ylabel('% By Count')\n",
    "ax1.set_title(f'Initially Uncertain (N = {N})')\n",
    "\n",
    "counts = certains['flip-class'].groupby(certains['flip-class']).size()\n",
    "N = sum(counts)\n",
    "counts = counts/sum(counts) * 100\n",
    "\n",
    "ax2.bar(range(len(counts)), counts, alpha = 1, align='center', color = list(sns.color_palette(\"hls\", len(counts)).as_hex()))\n",
    "ax2.set_xticks(range(4))\n",
    "ax2.set_xticklabels(counts.index, rotation = 45, ha=\"center\")\n",
    "ax2.set_ylabel('% By Count')\n",
    "ax2.set_title(f'Initially Certain (N = {N})')\n",
    "\n",
    "\n",
    "counts = in_slice['flip-class'].groupby(in_slice['flip-class']).size()\n",
    "N = sum(counts)\n",
    "counts = counts/sum(counts) * 100\n",
    "\n",
    "ax3.bar(range(len(counts)), counts, alpha = 1, align='center', color = list(sns.color_palette(\"hls\", len(counts)).as_hex()))\n",
    "ax3.set_xticks(range(4))\n",
    "ax3.set_xticklabels(counts.index, rotation = 45, ha=\"center\")\n",
    "ax3.set_ylabel('% By Count')\n",
    "ax3.set_title(f'In Slice (N = {N})')\n",
    "\n",
    "\n",
    "counts = out_slice['flip-class'].groupby(out_slice['flip-class']).size()\n",
    "N = sum(counts)\n",
    "counts = counts/sum(counts) * 100\n",
    "\n",
    "ax4.bar(range(len(counts)), counts, alpha = 1, align='center', color = list(sns.color_palette(\"hls\", len(counts)).as_hex()))\n",
    "ax4.set_xticks(range(4))\n",
    "ax4.set_xticklabels(counts.index, rotation = 45, ha=\"center\")\n",
    "ax4.set_ylabel('% By Count')\n",
    "ax4.set_title(f'Out Slice (N = {N})')\n",
    "\n",
    "plt.tight_layout()\n",
    "plt.savefig('categories1.png', dpi = 300)\n",
    "plt.show()"
   ]
  },
  {
   "cell_type": "markdown",
   "metadata": {},
   "source": [
    "## Tabulating the direction of Label Flips\n",
    "\n"
   ]
  },
  {
   "cell_type": "code",
   "execution_count": 8,
   "metadata": {},
   "outputs": [
    {
     "name": "stdout",
     "output_type": "stream",
     "text": [
      "Counter({('neutral', 'neutral'): 2635, ('contradiction', 'contradiction'): 2094, ('entailment', 'entailment'): 1820, ('neutral', 'entailment'): 207, ('contradiction', 'neutral'): 205, ('neutral', 'contradiction'): 189, ('entailment', 'contradiction'): 188, ('contradiction', 'entailment'): 179, ('entailment', 'neutral'): 176})\n"
     ]
    }
   ],
   "source": [
    "from ast import literal_eval as make_tuple\n",
    "from collections import Counter\n",
    "\n",
    "# count of label switches in contrast set\n",
    "switches = zip(df['orig-label'], df['new-label'])\n",
    "switch_changes = Counter(switches)\n",
    "print(switch_changes)"
   ]
  },
  {
   "cell_type": "code",
   "execution_count": 9,
   "metadata": {},
   "outputs": [
    {
     "data": {
      "image/png": "[encoded data removed]",
      "text/plain": [
       "<Figure size 432x288 with 2 Axes>"
      ]
     },
     "metadata": {
      "needs_background": "light"
     },
     "output_type": "display_data"
    }
   ],
   "source": [
    "RTE_mat = pd.crosstab(index=df['orig-label'], columns=[df['new-label']])\n",
    "pcts = (round(RTE_mat/RTE_mat.sum().sum()*100, 2)).values.flatten()\n",
    "\n",
    "ax = sns.heatmap(RTE_mat, annot=True, fmt = '.1f', square=1, linewidth=1., cmap=\"YlGnBu\")\n",
    "\n",
    "ind = 0\n",
    "for t in ax.texts: \n",
    "    t.set_text(str(pcts[ind]) + \" %\")\n",
    "    ind += 1\n",
    "    \n",
    "plt.title('Label Flips in Generations')\n",
    "plt.savefig('label-flips1.png', dpi = 300)\n",
    "plt.show()"
   ]
  },
  {
   "cell_type": "code",
   "execution_count": 10,
   "metadata": {},
   "outputs": [
    {
     "name": "stdout",
     "output_type": "stream",
     "text": [
      "Counter({('entailment', 'contradiction'): 148, ('contradiction', 'entailment'): 129, ('neutral', 'contradiction'): 102, ('contradiction', 'neutral'): 100, ('neutral', 'entailment'): 98, ('entailment', 'neutral'): 77})\n"
     ]
    }
   ],
   "source": [
    "switches = zip(df.loc[df['flip-class'] == 'Certain-Flip', 'orig-label'], df.loc[df['flip-class'] == 'Certain-Flip', 'new-label'])\n",
    "switch_changes = Counter(switches)\n",
    "print(switch_changes)"
   ]
  },
  {
   "cell_type": "code",
   "execution_count": 11,
   "metadata": {},
   "outputs": [
    {
     "data": {
      "image/png": "[encoded data removed]",
      "text/plain": [
       "<Figure size 864x576 with 2 Axes>"
      ]
     },
     "metadata": {
      "needs_background": "light"
     },
     "output_type": "display_data"
    }
   ],
   "source": [
    "df = df[df['label-changed'] == 1]\n",
    "RTE_mat = pd.crosstab(index=df['orig-label'], columns=[df['new-label']])\n",
    "pcts = (round(RTE_mat/RTE_mat.sum().sum()*100)).values.flatten()\n",
    "\n",
    "fig, axs = plt.subplots(figsize=(12,8))\n",
    "ax = sns.heatmap(RTE_mat, annot=True, fmt = '.1f', square=1, linewidth=1., cmap=\"YlGnBu\")\n",
    "\n",
    "ind = 0\n",
    "for t in ax.texts: \n",
    "    t.set_text(str(pcts[ind]) + \" %\")\n",
    "    ind += 1\n",
    "\n",
    "plt.title('Label Flips in Contrast Set')\n",
    "plt.show()"
   ]
  },
  {
   "cell_type": "code",
   "execution_count": 1,
   "metadata": {},
   "outputs": [],
   "source": [
    "from spacy.lang.en.stop_words import STOP_WORDS"
   ]
  },
  {
   "cell_type": "code",
   "execution_count": 2,
   "metadata": {
    "scrolled": true
   },
   "outputs": [
    {
     "data": {
      "text/plain": [
       "{\"'d\",\n",
       " \"'ll\",\n",
       " \"'m\",\n",
       " \"'re\",\n",
       " \"'s\",\n",
       " \"'ve\",\n",
       " 'a',\n",
       " 'about',\n",
       " 'above',\n",
       " 'across',\n",
       " 'after',\n",
       " 'afterwards',\n",
       " 'again',\n",
       " 'against',\n",
       " 'all',\n",
       " 'almost',\n",
       " 'alone',\n",
       " 'along',\n",
       " 'already',\n",
       " 'also',\n",
       " 'although',\n",
       " 'always',\n",
       " 'am',\n",
       " 'among',\n",
       " 'amongst',\n",
       " 'amount',\n",
       " 'an',\n",
       " 'and',\n",
       " 'another',\n",
       " 'any',\n",
       " 'anyhow',\n",
       " 'anyone',\n",
       " 'anything',\n",
       " 'anyway',\n",
       " 'anywhere',\n",
       " 'are',\n",
       " 'around',\n",
       " 'as',\n",
       " 'at',\n",
       " 'back',\n",
       " 'be',\n",
       " 'became',\n",
       " 'because',\n",
       " 'become',\n",
       " 'becomes',\n",
       " 'becoming',\n",
       " 'been',\n",
       " 'before',\n",
       " 'beforehand',\n",
       " 'behind',\n",
       " 'being',\n",
       " 'below',\n",
       " 'beside',\n",
       " 'besides',\n",
       " 'between',\n",
       " 'beyond',\n",
       " 'both',\n",
       " 'bottom',\n",
       " 'but',\n",
       " 'by',\n",
       " 'ca',\n",
       " 'call',\n",
       " 'can',\n",
       " 'cannot',\n",
       " 'could',\n",
       " 'did',\n",
       " 'do',\n",
       " 'does',\n",
       " 'doing',\n",
       " 'done',\n",
       " 'down',\n",
       " 'due',\n",
       " 'during',\n",
       " 'each',\n",
       " 'eight',\n",
       " 'either',\n",
       " 'eleven',\n",
       " 'else',\n",
       " 'elsewhere',\n",
       " 'empty',\n",
       " 'enough',\n",
       " 'even',\n",
       " 'ever',\n",
       " 'every',\n",
       " 'everyone',\n",
       " 'everything',\n",
       " 'everywhere',\n",
       " 'except',\n",
       " 'few',\n",
       " 'fifteen',\n",
       " 'fifty',\n",
       " 'first',\n",
       " 'five',\n",
       " 'for',\n",
       " 'former',\n",
       " 'formerly',\n",
       " 'forty',\n",
       " 'four',\n",
       " 'from',\n",
       " 'front',\n",
       " 'full',\n",
       " 'further',\n",
       " 'get',\n",
       " 'give',\n",
       " 'go',\n",
       " 'had',\n",
       " 'has',\n",
       " 'have',\n",
       " 'he',\n",
       " 'hence',\n",
       " 'her',\n",
       " 'here',\n",
       " 'hereafter',\n",
       " 'hereby',\n",
       " 'herein',\n",
       " 'hereupon',\n",
       " 'hers',\n",
       " 'herself',\n",
       " 'him',\n",
       " 'himself',\n",
       " 'his',\n",
       " 'how',\n",
       " 'however',\n",
       " 'hundred',\n",
       " 'i',\n",
       " 'if',\n",
       " 'in',\n",
       " 'indeed',\n",
       " 'into',\n",
       " 'is',\n",
       " 'it',\n",
       " 'its',\n",
       " 'itself',\n",
       " 'just',\n",
       " 'keep',\n",
       " 'last',\n",
       " 'latter',\n",
       " 'latterly',\n",
       " 'least',\n",
       " 'less',\n",
       " 'made',\n",
       " 'make',\n",
       " 'many',\n",
       " 'may',\n",
       " 'me',\n",
       " 'meanwhile',\n",
       " 'might',\n",
       " 'mine',\n",
       " 'more',\n",
       " 'moreover',\n",
       " 'most',\n",
       " 'mostly',\n",
       " 'move',\n",
       " 'much',\n",
       " 'must',\n",
       " 'my',\n",
       " 'myself',\n",
       " \"n't\",\n",
       " 'name',\n",
       " 'namely',\n",
       " 'neither',\n",
       " 'never',\n",
       " 'nevertheless',\n",
       " 'next',\n",
       " 'nine',\n",
       " 'no',\n",
       " 'nobody',\n",
       " 'none',\n",
       " 'noone',\n",
       " 'nor',\n",
       " 'not',\n",
       " 'nothing',\n",
       " 'now',\n",
       " 'nowhere',\n",
       " 'n‘t',\n",
       " 'n’t',\n",
       " 'of',\n",
       " 'off',\n",
       " 'often',\n",
       " 'on',\n",
       " 'once',\n",
       " 'one',\n",
       " 'only',\n",
       " 'onto',\n",
       " 'or',\n",
       " 'other',\n",
       " 'others',\n",
       " 'otherwise',\n",
       " 'our',\n",
       " 'ours',\n",
       " 'ourselves',\n",
       " 'out',\n",
       " 'over',\n",
       " 'own',\n",
       " 'part',\n",
       " 'per',\n",
       " 'perhaps',\n",
       " 'please',\n",
       " 'put',\n",
       " 'quite',\n",
       " 'rather',\n",
       " 're',\n",
       " 'really',\n",
       " 'regarding',\n",
       " 'same',\n",
       " 'say',\n",
       " 'see',\n",
       " 'seem',\n",
       " 'seemed',\n",
       " 'seeming',\n",
       " 'seems',\n",
       " 'serious',\n",
       " 'several',\n",
       " 'she',\n",
       " 'should',\n",
       " 'show',\n",
       " 'side',\n",
       " 'since',\n",
       " 'six',\n",
       " 'sixty',\n",
       " 'so',\n",
       " 'some',\n",
       " 'somehow',\n",
       " 'someone',\n",
       " 'something',\n",
       " 'sometime',\n",
       " 'sometimes',\n",
       " 'somewhere',\n",
       " 'still',\n",
       " 'such',\n",
       " 'take',\n",
       " 'ten',\n",
       " 'than',\n",
       " 'that',\n",
       " 'the',\n",
       " 'their',\n",
       " 'them',\n",
       " 'themselves',\n",
       " 'then',\n",
       " 'thence',\n",
       " 'there',\n",
       " 'thereafter',\n",
       " 'thereby',\n",
       " 'therefore',\n",
       " 'therein',\n",
       " 'thereupon',\n",
       " 'these',\n",
       " 'they',\n",
       " 'third',\n",
       " 'this',\n",
       " 'those',\n",
       " 'though',\n",
       " 'three',\n",
       " 'through',\n",
       " 'throughout',\n",
       " 'thru',\n",
       " 'thus',\n",
       " 'to',\n",
       " 'together',\n",
       " 'too',\n",
       " 'top',\n",
       " 'toward',\n",
       " 'towards',\n",
       " 'twelve',\n",
       " 'twenty',\n",
       " 'two',\n",
       " 'under',\n",
       " 'unless',\n",
       " 'until',\n",
       " 'up',\n",
       " 'upon',\n",
       " 'us',\n",
       " 'used',\n",
       " 'using',\n",
       " 'various',\n",
       " 'very',\n",
       " 'via',\n",
       " 'was',\n",
       " 'we',\n",
       " 'well',\n",
       " 'were',\n",
       " 'what',\n",
       " 'whatever',\n",
       " 'when',\n",
       " 'whence',\n",
       " 'whenever',\n",
       " 'where',\n",
       " 'whereafter',\n",
       " 'whereas',\n",
       " 'whereby',\n",
       " 'wherein',\n",
       " 'whereupon',\n",
       " 'wherever',\n",
       " 'whether',\n",
       " 'which',\n",
       " 'while',\n",
       " 'whither',\n",
       " 'who',\n",
       " 'whoever',\n",
       " 'whole',\n",
       " 'whom',\n",
       " 'whose',\n",
       " 'why',\n",
       " 'will',\n",
       " 'with',\n",
       " 'within',\n",
       " 'without',\n",
       " 'would',\n",
       " 'yet',\n",
       " 'you',\n",
       " 'your',\n",
       " 'yours',\n",
       " 'yourself',\n",
       " 'yourselves',\n",
       " '‘d',\n",
       " '‘ll',\n",
       " '‘m',\n",
       " '‘re',\n",
       " '‘s',\n",
       " '‘ve',\n",
       " '’d',\n",
       " '’ll',\n",
       " '’m',\n",
       " '’re',\n",
       " '’s',\n",
       " '’ve'}"
      ]
     },
     "execution_count": 2,
     "metadata": {},
     "output_type": "execute_result"
    }
   ],
   "source": [
    "STOP_WORDS"
   ]
  },
  {
   "cell_type": "code",
   "execution_count": null,
   "metadata": {},
   "outputs": [],
   "source": []
  }
 ],
 "metadata": {
  "kernelspec": {
   "display_name": "Python 3",
   "language": "python",
   "name": "python3"
  },
  "language_info": {
   "codemirror_mode": {
    "name": "ipython",
    "version": 3
   },
   "file_extension": ".py",
   "mimetype": "text/x-python",
   "name": "python",
   "nbconvert_exporter": "python",
   "pygments_lexer": "ipython3",
   "version": "3.8.5"
  }
 },
 "nbformat": 4,
 "nbformat_minor": 4
}
