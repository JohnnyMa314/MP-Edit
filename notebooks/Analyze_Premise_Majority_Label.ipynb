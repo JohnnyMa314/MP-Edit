{
 "cells": [
  {
   "cell_type": "code",
   "execution_count": 41,
   "id": "plastic-inspector",
   "metadata": {},
   "outputs": [],
   "source": [
    "import pandas as pd\n",
    "import numpy as np\n",
    "import matplotlib.pyplot as plt\n",
    "import seaborn as sns\n",
    "import json\n",
    "import random\n",
    "from collections import Counter"
   ]
  },
  {
   "cell_type": "code",
   "execution_count": 21,
   "id": "novel-warehouse",
   "metadata": {},
   "outputs": [],
   "source": [
    "def load_nli_data(path):\n",
    "    \"\"\"\n",
    "    Load MultiNLI or SNLI data.\n",
    "    \"\"\"\n",
    "    LABEL_MAP = {\n",
    "    \"entailment\": 0,\n",
    "    \"neutral\": 1,\n",
    "    \"contradiction\": 2}\n",
    "    \n",
    "    data = []\n",
    "    with open(path) as f:\n",
    "        for line in f:\n",
    "            loaded_example = json.loads(line)\n",
    "            if loaded_example[\"gold_label\"] not in LABEL_MAP:\n",
    "                continue\n",
    "            loaded_example[\"label\"] = LABEL_MAP[loaded_example[\"gold_label\"]]\n",
    "            data.append(loaded_example)\n",
    "            \n",
    "        # really cannot change this random seed\n",
    "        random.seed(1)\n",
    "        random.shuffle(data)\n",
    "        \n",
    "    return data"
   ]
  },
  {
   "cell_type": "code",
   "execution_count": 110,
   "id": "substantial-fundamental",
   "metadata": {},
   "outputs": [],
   "source": [
    "# get the fraction of annotator labels that are majority\n",
    "# get most common label, then divide its count by number of labels total\n",
    "def get_majority_frac(row):\n",
    "    maj_frac = Counter(row['annotator_labels']).most_common()[0][1]/len(row['annotator_labels'])\n",
    "    return maj_frac\n",
    "\n",
    "\n",
    "# identify premises that have many flip classes\n",
    "# get all rows by a generation, count number of uncertains, get fraction over all generations.\n",
    "\n",
    "def get_uncertain_frac(row):\n",
    "    flip_counter = Counter(df.loc[df['line-num'] == row['line-num']]['flip-class'])\n",
    "\n",
    "    uncertain_count = 0\n",
    "    if flip_counter.get('Uncertain-Same'):\n",
    "        uncertain_count += flip_counter.get('Uncertain-Same') \n",
    "    if flip_counter.get('Uncertain-Flip'):\n",
    "        uncertain_count += flip_counter.get('Uncertain-Flip') \n",
    "\n",
    "    # number of uncertain generations over total number of generations\n",
    "    uncertain_frac = uncertain_count / sum(flip_counter.values())\n",
    "    \n",
    "    return uncertain_frac"
   ]
  },
  {
   "cell_type": "code",
   "execution_count": 172,
   "id": "physical-award",
   "metadata": {},
   "outputs": [
    {
     "data": {
      "text/plain": [
       "(9815, 13)"
      ]
     },
     "execution_count": 172,
     "metadata": {},
     "output_type": "execute_result"
    }
   ],
   "source": [
    "MNLI = pd.DataFrame(load_nli_data('../data/MNLI/original/multinli_1.0_dev_matched.jsonl'))\n",
    "MNLI['line-num'] = MNLI.index\n",
    "MNLI.shape"
   ]
  },
  {
   "cell_type": "code",
   "execution_count": 135,
   "id": "prescribed-marine",
   "metadata": {},
   "outputs": [
    {
     "data": {
      "text/plain": [
       "(29991, 28)"
      ]
     },
     "execution_count": 135,
     "metadata": {},
     "output_type": "execute_result"
    }
   ],
   "source": [
    "df = pd.read_csv('../output/MNLI/cleaned_10000_fine-tuned_gradient_gold-label_beam_MNLI_dev_labeled.csv')\n",
    "df.shape"
   ]
  },
  {
   "cell_type": "code",
   "execution_count": 184,
   "id": "regulation-money",
   "metadata": {},
   "outputs": [],
   "source": [
    "MNLI['agreement'] = MNLI.apply(lambda row : get_majority_frac(row), axis = 1)\n",
    "df['uncertain_frac'] = df.apply(lambda row : get_uncertain_frac(row), axis = 1)"
   ]
  },
  {
   "cell_type": "code",
   "execution_count": 185,
   "id": "powerful-fellowship",
   "metadata": {},
   "outputs": [
    {
     "name": "stdout",
     "output_type": "stream",
     "text": [
      "There are: 2581 premises generated over.\n"
     ]
    }
   ],
   "source": [
    "m_df = pd.merge(df, MNLI[['line-num', 'agreement']], left_on = 'line-num', right_on = 'line-num')\n",
    "m_df = m_df.drop_duplicates('line-num')\n",
    "print(f'There are: {len(m_df[\"line-num\"].unique())} premises generated over.')"
   ]
  },
  {
   "cell_type": "code",
   "execution_count": 193,
   "id": "assumed-sydney",
   "metadata": {},
   "outputs": [],
   "source": [
    "m_df['unc_gen'] = 0\n",
    "m_df.loc[m_df['uncertain_frac'] > 0.25, 'unc_gen'] = 1\n",
    "m_df.loc[m_df['uncertain_frac'] > 0.5, 'unc_gen'] = 2\n",
    "m_df.loc[m_df['uncertain_frac'] > 0.75, 'unc_gen'] = 3"
   ]
  },
  {
   "cell_type": "code",
   "execution_count": 215,
   "id": "frozen-restriction",
   "metadata": {},
   "outputs": [
    {
     "data": {
      "text/plain": [
       "array([[<AxesSubplot:title={'center':'uncertain_frac'}>]], dtype=object)"
      ]
     },
     "execution_count": 215,
     "metadata": {},
     "output_type": "execute_result"
    },
    {
     "data": {
      "image/png": "[encoded data removed]",
      "text/plain": [
       "<Figure size 432x288 with 1 Axes>"
      ]
     },
     "metadata": {
      "needs_background": "light"
     },
     "output_type": "display_data"
    }
   ],
   "source": [
    "m_df.hist('uncertain_frac')"
   ]
  },
  {
   "cell_type": "code",
   "execution_count": 214,
   "id": "stopped-cologne",
   "metadata": {},
   "outputs": [
    {
     "data": {
      "text/html": [
       "<div>\n",
       "<style scoped>\n",
       "    .dataframe tbody tr th:only-of-type {\n",
       "        vertical-align: middle;\n",
       "    }\n",
       "\n",
       "    .dataframe tbody tr th {\n",
       "        vertical-align: top;\n",
       "    }\n",
       "\n",
       "    .dataframe thead tr th {\n",
       "        text-align: left;\n",
       "    }\n",
       "\n",
       "    .dataframe thead tr:last-of-type th {\n",
       "        text-align: right;\n",
       "    }\n",
       "</style>\n",
       "<table border=\"1\" class=\"dataframe\">\n",
       "  <thead>\n",
       "    <tr>\n",
       "      <th></th>\n",
       "      <th></th>\n",
       "      <th>agreement</th>\n",
       "      <th>Fraction</th>\n",
       "    </tr>\n",
       "    <tr>\n",
       "      <th></th>\n",
       "      <th></th>\n",
       "      <th>count</th>\n",
       "      <th></th>\n",
       "    </tr>\n",
       "    <tr>\n",
       "      <th>unc_gen</th>\n",
       "      <th>agreement</th>\n",
       "      <th></th>\n",
       "      <th></th>\n",
       "    </tr>\n",
       "  </thead>\n",
       "  <tbody>\n",
       "    <tr>\n",
       "      <th rowspan=\"3\" valign=\"top\">0</th>\n",
       "      <th>0.6</th>\n",
       "      <td>270</td>\n",
       "      <td>12.5</td>\n",
       "    </tr>\n",
       "    <tr>\n",
       "      <th>0.8</th>\n",
       "      <td>506</td>\n",
       "      <td>23.3</td>\n",
       "    </tr>\n",
       "    <tr>\n",
       "      <th>1.0</th>\n",
       "      <td>1392</td>\n",
       "      <td>64.2</td>\n",
       "    </tr>\n",
       "    <tr>\n",
       "      <th rowspan=\"3\" valign=\"top\">1</th>\n",
       "      <th>0.6</th>\n",
       "      <td>61</td>\n",
       "      <td>27.6</td>\n",
       "    </tr>\n",
       "    <tr>\n",
       "      <th>0.8</th>\n",
       "      <td>68</td>\n",
       "      <td>30.8</td>\n",
       "    </tr>\n",
       "    <tr>\n",
       "      <th>1.0</th>\n",
       "      <td>92</td>\n",
       "      <td>41.6</td>\n",
       "    </tr>\n",
       "    <tr>\n",
       "      <th rowspan=\"3\" valign=\"top\">2</th>\n",
       "      <th>0.6</th>\n",
       "      <td>38</td>\n",
       "      <td>34.9</td>\n",
       "    </tr>\n",
       "    <tr>\n",
       "      <th>0.8</th>\n",
       "      <td>32</td>\n",
       "      <td>29.4</td>\n",
       "    </tr>\n",
       "    <tr>\n",
       "      <th>1.0</th>\n",
       "      <td>39</td>\n",
       "      <td>35.8</td>\n",
       "    </tr>\n",
       "    <tr>\n",
       "      <th rowspan=\"3\" valign=\"top\">3</th>\n",
       "      <th>0.6</th>\n",
       "      <td>32</td>\n",
       "      <td>38.6</td>\n",
       "    </tr>\n",
       "    <tr>\n",
       "      <th>0.8</th>\n",
       "      <td>26</td>\n",
       "      <td>31.3</td>\n",
       "    </tr>\n",
       "    <tr>\n",
       "      <th>1.0</th>\n",
       "      <td>25</td>\n",
       "      <td>30.1</td>\n",
       "    </tr>\n",
       "  </tbody>\n",
       "</table>\n",
       "</div>"
      ],
      "text/plain": [
       "                  agreement Fraction\n",
       "                      count         \n",
       "unc_gen agreement                   \n",
       "0       0.6             270     12.5\n",
       "        0.8             506     23.3\n",
       "        1.0            1392     64.2\n",
       "1       0.6              61     27.6\n",
       "        0.8              68     30.8\n",
       "        1.0              92     41.6\n",
       "2       0.6              38     34.9\n",
       "        0.8              32     29.4\n",
       "        1.0              39     35.8\n",
       "3       0.6              32     38.6\n",
       "        0.8              26     31.3\n",
       "        1.0              25     30.1"
      ]
     },
     "execution_count": 214,
     "metadata": {},
     "output_type": "execute_result"
    }
   ],
   "source": [
    "metric = m_df.groupby(['unc_gen', 'agreement']).agg({'agreement': ['count']})\n",
    "metric['agreement']['count']\n",
    "metric['Fraction'] = round(metric.groupby(level='unc_gen').transform(lambda x: x/x.sum())*100,1)\n",
    "metric"
   ]
  },
  {
   "cell_type": "code",
   "execution_count": 194,
   "id": "compatible-ability",
   "metadata": {},
   "outputs": [
    {
     "data": {
      "image/png": "[encoded data removed]",
      "text/plain": [
       "<Figure size 576x576 with 1 Axes>"
      ]
     },
     "metadata": {
      "needs_background": "light"
     },
     "output_type": "display_data"
    }
   ],
   "source": [
    "box = m_df.boxplot(column = ['agreement'], by = 'unc_gen', figsize = (8,8), grid=False, fontsize = 'large')\n",
    "box.set_xlabel(\"Pair's Majority Label Fraction\", fontsize = 'large')\n",
    "box.set_ylabel('Generation Flip Class Uncertain Fraction', fontsize = 'large')\n",
    "box.set_title('Do Low Agreement Premises Lend to Uncertain Generations?')\n",
    "plt.suptitle('') \n",
    "plt.savefig('../graphs/Uncertain-Agreement.png', dpi = 200)"
   ]
  },
  {
   "cell_type": "code",
   "execution_count": 186,
   "id": "hungry-conspiracy",
   "metadata": {},
   "outputs": [
    {
     "data": {
      "image/png": "[encoded data removed]",
      "text/plain": [
       "<Figure size 576x576 with 1 Axes>"
      ]
     },
     "metadata": {
      "needs_background": "light"
     },
     "output_type": "display_data"
    }
   ],
   "source": [
    "box = m_df.boxplot(column = ['uncertain_frac'], by = 'agreement', figsize = (8,8), grid=False, fontsize = 'large')\n",
    "box.set_xlabel(\"Pair's Majority Label Fraction\", fontsize = 'large')\n",
    "box.set_ylabel('Generation Flip Class Uncertain Fraction', fontsize = 'large')\n",
    "box.set_title('Do Low Agreement Premises Lend to Uncertain Generations?')\n",
    "plt.suptitle('') \n",
    "plt.savefig('../graphs/Agreement-Uncertain.png', dpi = 200)"
   ]
  }
 ],
 "metadata": {
  "kernelspec": {
   "display_name": "Python 3",
   "language": "python",
   "name": "python3"
  },
  "language_info": {
   "codemirror_mode": {
    "name": "ipython",
    "version": 3
   },
   "file_extension": ".py",
   "mimetype": "text/x-python",
   "name": "python",
   "nbconvert_exporter": "python",
   "pygments_lexer": "ipython3",
   "version": "3.8.5"
  }
 },
 "nbformat": 4,
 "nbformat_minor": 5
}
