{
 "cells": [
  {
   "cell_type": "code",
   "execution_count": 3,
   "id": "critical-beverage",
   "metadata": {},
   "outputs": [
    {
     "name": "stdout",
     "output_type": "stream",
     "text": [
      "README.md                grradient_flipclass.png  \u001b[34moutput\u001b[m\u001b[m/\n",
      "categories1.png          instances1.png           \u001b[34mresults\u001b[m\u001b[m/\n",
      "\u001b[34mdata\u001b[m\u001b[m/                    \u001b[34mmturk\u001b[m\u001b[m/                   \u001b[34mscripts\u001b[m\u001b[m/\n",
      "\u001b[34mgraphs\u001b[m\u001b[m/                  \u001b[34mnotebooks\u001b[m\u001b[m/               \u001b[34mslides\u001b[m\u001b[m/\n"
     ]
    }
   ],
   "source": [
    "ls .."
   ]
  },
  {
   "cell_type": "code",
   "execution_count": 48,
   "id": "leading-fetish",
   "metadata": {},
   "outputs": [
    {
     "data": {
      "image/png": "[encoded data removed]",
      "text/plain": [
       "<Figure size 864x576 with 1 Axes>"
      ]
     },
     "metadata": {
      "needs_background": "light"
     },
     "output_type": "display_data"
    }
   ],
   "source": [
    "# visualizing flip classes without \n",
    "\n",
    "import pandas as pd\n",
    "import numpy as np\n",
    "import matplotlib.pyplot as plt\n",
    "import seaborn as sns\n",
    "import glob\n",
    "\n",
    "width = 0.25       # the width of the bars\n",
    "\n",
    "\n",
    "df = pd.read_csv('../output/MNLI/mturk/cleaned_100000_fine-tuned_content-words_gold-label_beam_MNLI_labeled.csv')\n",
    "# df = pd.read_csv('./mturk/Pilot_Test_Master_92_3-3-21_labeled.csv')\n",
    "df.shape\n",
    "\n",
    "uncertains = df.loc[df['orig-label-prob'] < 0.8] # initial model uncertain\n",
    "certains = df.loc[df['orig-label-prob'] > 0.8] # initial model certain\n",
    "# in_slice = df.loc[df['slice'] == 1] # example contains targeted words\n",
    "# out_slice = df.loc[df['slice'] == 0] # example does not contain targeted words\n",
    "\n",
    "fig = plt.figure(figsize=(12,8))\n",
    "ax = fig.add_subplot(111)\n",
    "\n",
    "counts = df['flip-class'].groupby(df['flip-class']).size()\n",
    "N = sum(counts)\n",
    "counts = counts/sum(counts) * 100\n",
    "\n",
    "types1 = ax.bar(np.arange(len(counts)), counts, width, alpha = 1)\n",
    "\n",
    "\n",
    "df = pd.read_csv('../output/MNLI/mturk/cleaned_100000_fine-tuned_data-slices_gold-label_beam_MNLI_labeled.csv')\n",
    "# df = pd.read_csv('./mturk/Pilot_Test_Master_92_3-3-21_labeled.csv')\n",
    "df.shape\n",
    "\n",
    "uncertains = df.loc[df['orig-label-prob'] < 0.8] # initial model uncertain\n",
    "certains = df.loc[df['orig-label-prob'] > 0.8] # initial model certain\n",
    "# in_slice = df.loc[df['slice'] == 1] # example contains targeted words\n",
    "# out_slice = df.loc[df['slice'] == 0] # example does not contain targeted words\n",
    "\n",
    "counts = df['flip-class'].groupby(df['flip-class']).size()\n",
    "N = sum(counts)\n",
    "counts = counts/sum(counts) * 100\n",
    "\n",
    "types2 = ax.bar(np.arange(len(counts))+ width, counts, width)\n",
    "\n",
    "\n",
    "\n",
    "df = pd.read_csv('../output/MNLI/mturk/cleaned_100000_fine-tuned_gradient_gold-label_beam_MNLI_labeled.csv')\n",
    "# df = pd.read_csv('./mturk/Pilot_Test_Master_92_3-3-21_labeled.csv')\n",
    "df.shape\n",
    "\n",
    "uncertains = df.loc[df['orig-label-prob'] < 0.8] # initial model uncertain\n",
    "certains = df.loc[df['orig-label-prob'] > 0.8] # initial model certain\n",
    "# in_slice = df.loc[df['slice'] == 1] # example contains targeted words\n",
    "# out_slice = df.loc[df['slice'] == 0] # example does not contain targeted words\n",
    "\n",
    "counts = df['flip-class'].groupby(df['flip-class']).size()\n",
    "N = sum(counts)\n",
    "counts = counts/sum(counts) * 100\n",
    "\n",
    "types3 = ax.bar(np.arange(len(counts))+ width*2, counts, width)\n",
    "\n",
    "ax.set_ylabel('% By Count')\n",
    "ax.set_title(f'Generated Flip Class by masking strategy')\n",
    "ax.set_ylim(0, 100)\n",
    "ax.set_xticks(np.arange(len(counts))+width)\n",
    "ax.set_xticklabels( ('Certain-Flip', 'Certain-Same', 'Uncertain-Flip', 'Uncertain-Same') )\n",
    "ax.legend( (types1[0], types2[0], types3[0]), ('Content Words', 'Data Slices', 'Gradient') )\n",
    "\n",
    "\n",
    "plt.savefig('flip-class-gens.png', dpi=400)"
   ]
  },
  {
   "cell_type": "code",
   "execution_count": 31,
   "id": "congressional-implementation",
   "metadata": {},
   "outputs": [
    {
     "data": {
      "text/plain": [
       "Index(['Certain-Flip', 'Certain-Same', 'Uncertain-Flip', 'Uncertain-Same'], dtype='object', name='flip-class')"
      ]
     },
     "execution_count": 31,
     "metadata": {},
     "output_type": "execute_result"
    }
   ],
   "source": [
    "counts.index"
   ]
  },
  {
   "cell_type": "code",
   "execution_count": 9,
   "id": "popular-alfred",
   "metadata": {},
   "outputs": [
    {
     "data": {
      "text/plain": [
       "flip-class\n",
       "Certain-Flip      11.656064\n",
       "Certain-Same      76.618856\n",
       "Uncertain-Flip     4.388465\n",
       "Uncertain-Same     7.336614\n",
       "Name: flip-class, dtype: float64"
      ]
     },
     "execution_count": 9,
     "metadata": {},
     "output_type": "execute_result"
    }
   ],
   "source": [
    "counts"
   ]
  },
  {
   "cell_type": "code",
   "execution_count": null,
   "id": "increased-corner",
   "metadata": {},
   "outputs": [],
   "source": []
  }
 ],
 "metadata": {
  "kernelspec": {
   "display_name": "Python 3",
   "language": "python",
   "name": "python3"
  },
  "language_info": {
   "codemirror_mode": {
    "name": "ipython",
    "version": 3
   },
   "file_extension": ".py",
   "mimetype": "text/x-python",
   "name": "python",
   "nbconvert_exporter": "python",
   "pygments_lexer": "ipython3",
   "version": "3.8.5"
  }
 },
 "nbformat": 4,
 "nbformat_minor": 5
}
