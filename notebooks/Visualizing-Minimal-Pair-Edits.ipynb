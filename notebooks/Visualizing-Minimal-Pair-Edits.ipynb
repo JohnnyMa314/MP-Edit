{
 "cells": [
  {
   "cell_type": "code",
   "execution_count": 2,
   "metadata": {},
   "outputs": [],
   "source": [
    "import pandas as pd\n",
    "import numpy as np\n",
    "import matplotlib.pyplot as plt\n",
    "import seaborn as sns\n",
    "\n",
    "df = pd.read_csv('../output/MNLI/1500_mnli_cond_pairs_tagged_hypos.csv')"
   ]
  },
  {
   "cell_type": "code",
   "execution_count": 137,
   "metadata": {},
   "outputs": [
    {
     "name": "stdout",
     "output_type": "stream",
     "text": [
      "Index(['Unnamed: 0', 'Unnamed: 0.1', 'line-num', 'pred-model', 'fill-model',\n",
      "       'premise', 'hypothesis', 'mask-filled', 'token_changes', 'fill_prob',\n",
      "       'n_gram', 'Word2Vec-Score', 'Bert-Score', 'gold-label',\n",
      "       'token-similarity', 'orig-label', 'new-label', 'orig-label-prob',\n",
      "       'same-label-prob', 'new-label-prob', 'label-changed',\n",
      "       'same-label-prob-diff', 'flip-class'],\n",
      "      dtype='object')\n"
     ]
    },
    {
     "data": {
      "text/html": [
       "<div>\n",
       "<style scoped>\n",
       "    .dataframe tbody tr th:only-of-type {\n",
       "        vertical-align: middle;\n",
       "    }\n",
       "\n",
       "    .dataframe tbody tr th {\n",
       "        vertical-align: top;\n",
       "    }\n",
       "\n",
       "    .dataframe thead th {\n",
       "        text-align: right;\n",
       "    }\n",
       "</style>\n",
       "<table border=\"1\" class=\"dataframe\">\n",
       "  <thead>\n",
       "    <tr style=\"text-align: right;\">\n",
       "      <th></th>\n",
       "      <th>Unnamed: 0</th>\n",
       "      <th>Unnamed: 0.1</th>\n",
       "      <th>line-num</th>\n",
       "      <th>pred-model</th>\n",
       "      <th>fill-model</th>\n",
       "      <th>premise</th>\n",
       "      <th>hypothesis</th>\n",
       "      <th>mask-filled</th>\n",
       "      <th>token_changes</th>\n",
       "      <th>fill_prob</th>\n",
       "      <th>...</th>\n",
       "      <th>gold-label</th>\n",
       "      <th>token-similarity</th>\n",
       "      <th>orig-label</th>\n",
       "      <th>new-label</th>\n",
       "      <th>orig-label-prob</th>\n",
       "      <th>same-label-prob</th>\n",
       "      <th>new-label-prob</th>\n",
       "      <th>label-changed</th>\n",
       "      <th>same-label-prob-diff</th>\n",
       "      <th>flip-class</th>\n",
       "    </tr>\n",
       "  </thead>\n",
       "  <tbody>\n",
       "    <tr>\n",
       "      <th>0</th>\n",
       "      <td>0</td>\n",
       "      <td>0</td>\n",
       "      <td>261090</td>\n",
       "      <td>mnli-roberta</td>\n",
       "      <td>BartLargeMNLI</td>\n",
       "      <td>So in a sense, island life continues just as i...</td>\n",
       "      <td>Island life is nothing at all like it used to be.</td>\n",
       "      <td>But in a way, island life is nothing at all li...</td>\n",
       "      <td>('Island', 'But in a way, island')</td>\n",
       "      <td>9.92%</td>\n",
       "      <td>...</td>\n",
       "      <td>2</td>\n",
       "      <td>0.621199</td>\n",
       "      <td>contradiction</td>\n",
       "      <td>contradiction</td>\n",
       "      <td>1.0</td>\n",
       "      <td>1.00</td>\n",
       "      <td>1.00</td>\n",
       "      <td>False</td>\n",
       "      <td>0.00</td>\n",
       "      <td>3</td>\n",
       "    </tr>\n",
       "    <tr>\n",
       "      <th>1</th>\n",
       "      <td>1</td>\n",
       "      <td>1</td>\n",
       "      <td>261090</td>\n",
       "      <td>mnli-roberta</td>\n",
       "      <td>BartLargeMNLI</td>\n",
       "      <td>So in a sense, island life continues just as i...</td>\n",
       "      <td>Island life is nothing at all like it used to be.</td>\n",
       "      <td>In other words, life on the island is nothing ...</td>\n",
       "      <td>('Island life', 'In other words, life on the i...</td>\n",
       "      <td>9.96%</td>\n",
       "      <td>...</td>\n",
       "      <td>2</td>\n",
       "      <td>0.776853</td>\n",
       "      <td>contradiction</td>\n",
       "      <td>contradiction</td>\n",
       "      <td>1.0</td>\n",
       "      <td>1.00</td>\n",
       "      <td>1.00</td>\n",
       "      <td>False</td>\n",
       "      <td>0.00</td>\n",
       "      <td>3</td>\n",
       "    </tr>\n",
       "    <tr>\n",
       "      <th>2</th>\n",
       "      <td>2</td>\n",
       "      <td>2</td>\n",
       "      <td>261090</td>\n",
       "      <td>mnli-roberta</td>\n",
       "      <td>BartLargeMNLI</td>\n",
       "      <td>So in a sense, island life continues just as i...</td>\n",
       "      <td>Island life is nothing at all like it used to be.</td>\n",
       "      <td>Except that it's nothing at all like it used t...</td>\n",
       "      <td>('Island life is', \"Except that it's\")</td>\n",
       "      <td>9.87%</td>\n",
       "      <td>...</td>\n",
       "      <td>2</td>\n",
       "      <td>0.676319</td>\n",
       "      <td>contradiction</td>\n",
       "      <td>contradiction</td>\n",
       "      <td>1.0</td>\n",
       "      <td>0.97</td>\n",
       "      <td>0.97</td>\n",
       "      <td>False</td>\n",
       "      <td>0.03</td>\n",
       "      <td>3</td>\n",
       "    </tr>\n",
       "    <tr>\n",
       "      <th>3</th>\n",
       "      <td>3</td>\n",
       "      <td>3</td>\n",
       "      <td>261090</td>\n",
       "      <td>mnli-roberta</td>\n",
       "      <td>BartLargeMNLI</td>\n",
       "      <td>So in a sense, island life continues just as i...</td>\n",
       "      <td>Island life is nothing at all like it used to be.</td>\n",
       "      <td>Island life today is nothing at all like it us...</td>\n",
       "      <td>('life', 'life today')</td>\n",
       "      <td>10.04%</td>\n",
       "      <td>...</td>\n",
       "      <td>2</td>\n",
       "      <td>0.863040</td>\n",
       "      <td>contradiction</td>\n",
       "      <td>contradiction</td>\n",
       "      <td>1.0</td>\n",
       "      <td>1.00</td>\n",
       "      <td>1.00</td>\n",
       "      <td>False</td>\n",
       "      <td>0.00</td>\n",
       "      <td>3</td>\n",
       "    </tr>\n",
       "    <tr>\n",
       "      <th>4</th>\n",
       "      <td>4</td>\n",
       "      <td>4</td>\n",
       "      <td>261090</td>\n",
       "      <td>mnli-roberta</td>\n",
       "      <td>BartLargeMNLI</td>\n",
       "      <td>So in a sense, island life continues just as i...</td>\n",
       "      <td>Island life is nothing at all like it used to be.</td>\n",
       "      <td>But it is nothing at all like it used to be.</td>\n",
       "      <td>('Island life', 'But it')</td>\n",
       "      <td>10.12%</td>\n",
       "      <td>...</td>\n",
       "      <td>2</td>\n",
       "      <td>0.524967</td>\n",
       "      <td>contradiction</td>\n",
       "      <td>contradiction</td>\n",
       "      <td>1.0</td>\n",
       "      <td>1.00</td>\n",
       "      <td>1.00</td>\n",
       "      <td>False</td>\n",
       "      <td>0.00</td>\n",
       "      <td>3</td>\n",
       "    </tr>\n",
       "  </tbody>\n",
       "</table>\n",
       "<p>5 rows × 23 columns</p>\n",
       "</div>"
      ],
      "text/plain": [
       "   Unnamed: 0  Unnamed: 0.1  line-num    pred-model     fill-model  \\\n",
       "0           0             0    261090  mnli-roberta  BartLargeMNLI   \n",
       "1           1             1    261090  mnli-roberta  BartLargeMNLI   \n",
       "2           2             2    261090  mnli-roberta  BartLargeMNLI   \n",
       "3           3             3    261090  mnli-roberta  BartLargeMNLI   \n",
       "4           4             4    261090  mnli-roberta  BartLargeMNLI   \n",
       "\n",
       "                                             premise  \\\n",
       "0  So in a sense, island life continues just as i...   \n",
       "1  So in a sense, island life continues just as i...   \n",
       "2  So in a sense, island life continues just as i...   \n",
       "3  So in a sense, island life continues just as i...   \n",
       "4  So in a sense, island life continues just as i...   \n",
       "\n",
       "                                          hypothesis  \\\n",
       "0  Island life is nothing at all like it used to be.   \n",
       "1  Island life is nothing at all like it used to be.   \n",
       "2  Island life is nothing at all like it used to be.   \n",
       "3  Island life is nothing at all like it used to be.   \n",
       "4  Island life is nothing at all like it used to be.   \n",
       "\n",
       "                                         mask-filled  \\\n",
       "0  But in a way, island life is nothing at all li...   \n",
       "1  In other words, life on the island is nothing ...   \n",
       "2  Except that it's nothing at all like it used t...   \n",
       "3  Island life today is nothing at all like it us...   \n",
       "4       But it is nothing at all like it used to be.   \n",
       "\n",
       "                                       token_changes fill_prob  ...  \\\n",
       "0                 ('Island', 'But in a way, island')     9.92%  ...   \n",
       "1  ('Island life', 'In other words, life on the i...     9.96%  ...   \n",
       "2             ('Island life is', \"Except that it's\")     9.87%  ...   \n",
       "3                             ('life', 'life today')    10.04%  ...   \n",
       "4                          ('Island life', 'But it')    10.12%  ...   \n",
       "\n",
       "   gold-label  token-similarity     orig-label      new-label  \\\n",
       "0           2          0.621199  contradiction  contradiction   \n",
       "1           2          0.776853  contradiction  contradiction   \n",
       "2           2          0.676319  contradiction  contradiction   \n",
       "3           2          0.863040  contradiction  contradiction   \n",
       "4           2          0.524967  contradiction  contradiction   \n",
       "\n",
       "   orig-label-prob same-label-prob new-label-prob  label-changed  \\\n",
       "0              1.0            1.00           1.00          False   \n",
       "1              1.0            1.00           1.00          False   \n",
       "2              1.0            0.97           0.97          False   \n",
       "3              1.0            1.00           1.00          False   \n",
       "4              1.0            1.00           1.00          False   \n",
       "\n",
       "   same-label-prob-diff  flip-class  \n",
       "0                  0.00           3  \n",
       "1                  0.00           3  \n",
       "2                  0.03           3  \n",
       "3                  0.00           3  \n",
       "4                  0.00           3  \n",
       "\n",
       "[5 rows x 23 columns]"
      ]
     },
     "execution_count": 137,
     "metadata": {},
     "output_type": "execute_result"
    }
   ],
   "source": [
    "print(df.columns)\n",
    "df.head()"
   ]
  },
  {
   "cell_type": "markdown",
   "metadata": {},
   "source": [
    "# Visualizing Sentence and Token Similairty Measures"
   ]
  },
  {
   "cell_type": "code",
   "execution_count": 14,
   "metadata": {},
   "outputs": [
    {
     "data": {
      "text/plain": [
       "(0.0, 1.0)"
      ]
     },
     "execution_count": 14,
     "metadata": {},
     "output_type": "execute_result"
    },
    {
     "data": {
      "image/png": "[encoded data removed]",
      "text/plain": [
       "<Figure size 720x432 with 1 Axes>"
      ]
     },
     "metadata": {
      "needs_background": "light"
     },
     "output_type": "display_data"
    },
    {
     "data": {
      "text/plain": [
       "<Figure size 432x288 with 0 Axes>"
      ]
     },
     "metadata": {},
     "output_type": "display_data"
    },
    {
     "data": {
      "image/png": "[encoded data removed]",
      "text/plain": [
       "<Figure size 720x432 with 1 Axes>"
      ]
     },
     "metadata": {
      "needs_background": "light"
     },
     "output_type": "display_data"
    }
   ],
   "source": [
    "fig, ax = plt.subplots(figsize=(10,6))\n",
    "sns.histplot(df['Bert-Score'], label = 'BERT', alpha = 0.6, color = 'orange')\n",
    "sns.histplot(df['Word2Vec-Score'], label = 'W2V', alpha=0.6, color = 'purple')\n",
    "plt.legend()\n",
    "plt.title('Mask Fill Sentence Similarity Measures')\n",
    "\n",
    "plt.figure()\n",
    "fig, ax = plt.subplots(figsize=(10,6))\n",
    "sns.histplot(df['token-similarity'], label = 'TokSim', alpha=0.6, color = 'red')\n",
    "plt.title('Mask Fill Token Similarity Measures')\n",
    "plt.xlim([0,1])"
   ]
  },
  {
   "cell_type": "markdown",
   "metadata": {},
   "source": [
    "# Visualizing Label Flip and Class Probability\n",
    "\n",
    "Define four conditions based on label flip and probability of label, given by RoBERTA softmax.\n",
    "\n",
    "1. Certain Flip\n",
    "2. Uncertain Flip\n",
    "3. Certain Same\n",
    "4. Uncertain Same\n",
    "\n"
   ]
  },
  {
   "cell_type": "code",
   "execution_count": 10,
   "metadata": {},
   "outputs": [
    {
     "data": {
      "text/plain": [
       "<AxesSubplot:xlabel='same-label-prob-diff', ylabel='Count'>"
      ]
     },
     "execution_count": 10,
     "metadata": {},
     "output_type": "execute_result"
    },
    {
     "data": {
      "image/png": "[encoded data removed]",
      "text/plain": [
       "<Figure size 432x288 with 1 Axes>"
      ]
     },
     "metadata": {
      "needs_background": "light"
     },
     "output_type": "display_data"
    }
   ],
   "source": [
    "sns.histplot(df['same-label-prob-diff'])"
   ]
  },
  {
   "cell_type": "code",
   "execution_count": 11,
   "metadata": {},
   "outputs": [],
   "source": [
    "# creating label flips\n",
    "df['flip-class'] = 0\n",
    "df.loc[(df['label-changed'] == True) & (df['orig-label-prob'] > 0.8) & (df['new-label-prob'] >= 0.8), 'flip-class'] = 1\n",
    "df.loc[(df['label-changed'] == True) & (df['orig-label-prob'] > 0.8) & (df['new-label-prob'] < 0.8), 'flip-class'] = 2\n",
    "df.loc[(df['label-changed'] == False) & (df['orig-label-prob'] > 0.8) & (df['new-label-prob'] >= 0.8), 'flip-class'] = 3\n",
    "df.loc[(df['label-changed'] == False) & (df['orig-label-prob'] > 0.8) & (df['new-label-prob'] < 0.8), 'flip-class'] = 4"
   ]
  },
  {
   "cell_type": "code",
   "execution_count": 13,
   "metadata": {},
   "outputs": [
    {
     "data": {
      "text/plain": [
       "Text(0.5, 1.0, 'Counts of Label-Flip Categories')"
      ]
     },
     "execution_count": 13,
     "metadata": {},
     "output_type": "execute_result"
    },
    {
     "data": {
      "image/png": "[encoded data removed]",
      "text/plain": [
       "<Figure size 720x432 with 1 Axes>"
      ]
     },
     "metadata": {
      "needs_background": "light"
     },
     "output_type": "display_data"
    }
   ],
   "source": [
    "# counting\n",
    "counts = df['flip-class'].groupby(df['flip-class']).size()\n",
    "counts.index = ['None', 'Certain Flip', 'Uncertain Flip', 'Certain Same', 'Uncertain Same']\n",
    "\n",
    "fig, ax = plt.subplots(figsize=(10,6))\n",
    "plt.bar(range(len(counts)), counts, alpha = 1, align='center', color = list(sns.color_palette(\"hls\", len(counts)).as_hex()))\n",
    "plt.xticks(range(5), [name for name in counts.index], rotation = 45)\n",
    "plt.ylabel('Count')\n",
    "plt.title('Counts of Label-Flip Categories')"
   ]
  },
  {
   "cell_type": "code",
   "execution_count": null,
   "metadata": {},
   "outputs": [],
   "source": []
  }
 ],
 "metadata": {
  "kernelspec": {
   "display_name": "Python 3",
   "language": "python",
   "name": "python3"
  },
  "language_info": {
   "codemirror_mode": {
    "name": "ipython",
    "version": 3
   },
   "file_extension": ".py",
   "mimetype": "text/x-python",
   "name": "python",
   "nbconvert_exporter": "python",
   "pygments_lexer": "ipython3",
   "version": "3.8.5"
  }
 },
 "nbformat": 4,
 "nbformat_minor": 4
}
